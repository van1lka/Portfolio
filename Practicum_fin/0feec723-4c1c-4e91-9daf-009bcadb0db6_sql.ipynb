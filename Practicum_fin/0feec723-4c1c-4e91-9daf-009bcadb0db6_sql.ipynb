{
 "cells": [
  {
   "cell_type": "markdown",
   "metadata": {},
   "source": [
    "# SQL Анализ для создания приложения-читалки для книг.\n",
    "\n",
    "## 1 Цели исследования\n",
    "\n",
    "Коронавирус застал мир врасплох, изменив привычный порядок вещей. В свободное время жители городов больше не выходят на улицу, не посещают кафе и торговые центры. Зато стало больше времени для книг. Это заметили стартаперы — и бросились создавать приложения для тех, кто любит читать.\n",
    "\n",
    "Наша компания решила быть на волне и купила крупный сервис для чтения книг по подписке. Наша первая задача как аналитика — проанализировать базу данных. В ней — информация о книгах, издательствах, авторах, а также пользовательские обзоры книг. Эти данные помогут сформулировать ценностное предложение для нового продукта."
   ]
  },
  {
   "cell_type": "code",
   "execution_count": 1,
   "metadata": {},
   "outputs": [
    {
     "name": "stdout",
     "output_type": "stream",
     "text": [
      "Requirement already satisfied: psycopg2-binary in /opt/conda/lib/python3.9/site-packages (2.9.2)\r\n"
     ]
    }
   ],
   "source": [
    "!pip install psycopg2-binary"
   ]
  },
  {
   "cell_type": "code",
   "execution_count": 2,
   "metadata": {},
   "outputs": [],
   "source": [
    "# импортируем библиотеки\n",
    "import pandas as pd\n",
    "from sqlalchemy import create_engine"
   ]
  },
  {
   "cell_type": "code",
   "execution_count": 3,
   "metadata": {},
   "outputs": [],
   "source": [
    "# устанавливаем параметры\n",
    "db_config = {'user': 'praktikum_student', # имя пользователя\n",
    "'pwd': 'Sdf4$2;d-d30pp', # пароль\n",
    "'host': 'rc1b-wcoijxj3yxfsf3fs.mdb.yandexcloud.net',\n",
    "'port': 6432, # порт подключения\n",
    "'db': 'data-analyst-final-project-db'} # название базы данных\n",
    "connection_string = 'postgresql://{}:{}@{}:{}/{}'.format(db_config['user'],\n",
    " db_config['pwd'],\n",
    " db_config['host'],\n",
    " db_config['port'],\n",
    " db_config['db'])"
   ]
  },
  {
   "cell_type": "code",
   "execution_count": 4,
   "metadata": {},
   "outputs": [],
   "source": [
    "# сохраняем коннектор\n",
    "engine = create_engine(connection_string, connect_args={'sslmode':'require'})"
   ]
  },
  {
   "cell_type": "markdown",
   "metadata": {},
   "source": [
    "## 2 Исследуем таблицы"
   ]
  },
  {
   "cell_type": "markdown",
   "metadata": {},
   "source": [
    "### 2.1 **Таблица `books`**\n",
    "\n",
    "Содержит данные о книгах:\n",
    "\n",
    "- `book_id` — идентификатор книги;\n",
    "- `author_id` — идентификатор автора;\n",
    "- `title` — название книги;\n",
    "- `num_pages` — количество страниц;\n",
    "- `publication_date` — дата публикации книги;\n",
    "- `publisher_id` — идентификатор издателя."
   ]
  },
  {
   "cell_type": "code",
   "execution_count": 5,
   "metadata": {},
   "outputs": [
    {
     "data": {
      "text/html": [
       "<div>\n",
       "<style scoped>\n",
       "    .dataframe tbody tr th:only-of-type {\n",
       "        vertical-align: middle;\n",
       "    }\n",
       "\n",
       "    .dataframe tbody tr th {\n",
       "        vertical-align: top;\n",
       "    }\n",
       "\n",
       "    .dataframe thead th {\n",
       "        text-align: right;\n",
       "    }\n",
       "</style>\n",
       "<table border=\"1\" class=\"dataframe\">\n",
       "  <thead>\n",
       "    <tr style=\"text-align: right;\">\n",
       "      <th></th>\n",
       "      <th>book_id</th>\n",
       "      <th>author_id</th>\n",
       "      <th>title</th>\n",
       "      <th>num_pages</th>\n",
       "      <th>publication_date</th>\n",
       "      <th>publisher_id</th>\n",
       "    </tr>\n",
       "  </thead>\n",
       "  <tbody>\n",
       "    <tr>\n",
       "      <th>0</th>\n",
       "      <td>1</td>\n",
       "      <td>546</td>\n",
       "      <td>'Salem's Lot</td>\n",
       "      <td>594</td>\n",
       "      <td>2005-11-01</td>\n",
       "      <td>93</td>\n",
       "    </tr>\n",
       "    <tr>\n",
       "      <th>1</th>\n",
       "      <td>2</td>\n",
       "      <td>465</td>\n",
       "      <td>1 000 Places to See Before You Die</td>\n",
       "      <td>992</td>\n",
       "      <td>2003-05-22</td>\n",
       "      <td>336</td>\n",
       "    </tr>\n",
       "    <tr>\n",
       "      <th>2</th>\n",
       "      <td>3</td>\n",
       "      <td>407</td>\n",
       "      <td>13 Little Blue Envelopes (Little Blue Envelope...</td>\n",
       "      <td>322</td>\n",
       "      <td>2010-12-21</td>\n",
       "      <td>135</td>\n",
       "    </tr>\n",
       "    <tr>\n",
       "      <th>3</th>\n",
       "      <td>4</td>\n",
       "      <td>82</td>\n",
       "      <td>1491: New Revelations of the Americas Before C...</td>\n",
       "      <td>541</td>\n",
       "      <td>2006-10-10</td>\n",
       "      <td>309</td>\n",
       "    </tr>\n",
       "    <tr>\n",
       "      <th>4</th>\n",
       "      <td>5</td>\n",
       "      <td>125</td>\n",
       "      <td>1776</td>\n",
       "      <td>386</td>\n",
       "      <td>2006-07-04</td>\n",
       "      <td>268</td>\n",
       "    </tr>\n",
       "  </tbody>\n",
       "</table>\n",
       "</div>"
      ],
      "text/plain": [
       "   book_id  author_id                                              title  \\\n",
       "0        1        546                                       'Salem's Lot   \n",
       "1        2        465                 1 000 Places to See Before You Die   \n",
       "2        3        407  13 Little Blue Envelopes (Little Blue Envelope...   \n",
       "3        4         82  1491: New Revelations of the Americas Before C...   \n",
       "4        5        125                                               1776   \n",
       "\n",
       "   num_pages publication_date  publisher_id  \n",
       "0        594       2005-11-01            93  \n",
       "1        992       2003-05-22           336  \n",
       "2        322       2010-12-21           135  \n",
       "3        541       2006-10-10           309  \n",
       "4        386       2006-07-04           268  "
      ]
     },
     "execution_count": 5,
     "metadata": {},
     "output_type": "execute_result"
    }
   ],
   "source": [
    "query = ''' SELECT *\n",
    "            FROM books \n",
    "            LIMIT 5 '''\n",
    "books = pd.io.sql.read_sql(query, con = engine)\n",
    "books"
   ]
  },
  {
   "cell_type": "markdown",
   "metadata": {},
   "source": [
    "### 2.2 **Таблица `authors`**\n",
    "\n",
    "Содержит данные об авторах:\n",
    "\n",
    "- `author_id` — идентификатор автора;\n",
    "- `author` — имя автора."
   ]
  },
  {
   "cell_type": "code",
   "execution_count": 6,
   "metadata": {},
   "outputs": [
    {
     "data": {
      "text/html": [
       "<div>\n",
       "<style scoped>\n",
       "    .dataframe tbody tr th:only-of-type {\n",
       "        vertical-align: middle;\n",
       "    }\n",
       "\n",
       "    .dataframe tbody tr th {\n",
       "        vertical-align: top;\n",
       "    }\n",
       "\n",
       "    .dataframe thead th {\n",
       "        text-align: right;\n",
       "    }\n",
       "</style>\n",
       "<table border=\"1\" class=\"dataframe\">\n",
       "  <thead>\n",
       "    <tr style=\"text-align: right;\">\n",
       "      <th></th>\n",
       "      <th>author_id</th>\n",
       "      <th>author</th>\n",
       "    </tr>\n",
       "  </thead>\n",
       "  <tbody>\n",
       "    <tr>\n",
       "      <th>0</th>\n",
       "      <td>1</td>\n",
       "      <td>A.S. Byatt</td>\n",
       "    </tr>\n",
       "    <tr>\n",
       "      <th>1</th>\n",
       "      <td>2</td>\n",
       "      <td>Aesop/Laura Harris/Laura Gibbs</td>\n",
       "    </tr>\n",
       "    <tr>\n",
       "      <th>2</th>\n",
       "      <td>3</td>\n",
       "      <td>Agatha Christie</td>\n",
       "    </tr>\n",
       "    <tr>\n",
       "      <th>3</th>\n",
       "      <td>4</td>\n",
       "      <td>Alan Brennert</td>\n",
       "    </tr>\n",
       "    <tr>\n",
       "      <th>4</th>\n",
       "      <td>5</td>\n",
       "      <td>Alan Moore/David   Lloyd</td>\n",
       "    </tr>\n",
       "  </tbody>\n",
       "</table>\n",
       "</div>"
      ],
      "text/plain": [
       "   author_id                          author\n",
       "0          1                      A.S. Byatt\n",
       "1          2  Aesop/Laura Harris/Laura Gibbs\n",
       "2          3                 Agatha Christie\n",
       "3          4                   Alan Brennert\n",
       "4          5        Alan Moore/David   Lloyd"
      ]
     },
     "execution_count": 6,
     "metadata": {},
     "output_type": "execute_result"
    }
   ],
   "source": [
    "query = ''' SELECT *\n",
    "            FROM authors \n",
    "            LIMIT 5 '''\n",
    "authors = pd.io.sql.read_sql(query, con = engine)\n",
    "authors"
   ]
  },
  {
   "cell_type": "markdown",
   "metadata": {},
   "source": [
    "### 2.3 **Таблица `publishers`**\n",
    "\n",
    "Содержит данные об издательствах:\n",
    "\n",
    "- `publisher_id` — идентификатор издательства;\n",
    "- `publisher` — название издательства;"
   ]
  },
  {
   "cell_type": "code",
   "execution_count": 7,
   "metadata": {},
   "outputs": [
    {
     "data": {
      "text/html": [
       "<div>\n",
       "<style scoped>\n",
       "    .dataframe tbody tr th:only-of-type {\n",
       "        vertical-align: middle;\n",
       "    }\n",
       "\n",
       "    .dataframe tbody tr th {\n",
       "        vertical-align: top;\n",
       "    }\n",
       "\n",
       "    .dataframe thead th {\n",
       "        text-align: right;\n",
       "    }\n",
       "</style>\n",
       "<table border=\"1\" class=\"dataframe\">\n",
       "  <thead>\n",
       "    <tr style=\"text-align: right;\">\n",
       "      <th></th>\n",
       "      <th>publisher_id</th>\n",
       "      <th>publisher</th>\n",
       "    </tr>\n",
       "  </thead>\n",
       "  <tbody>\n",
       "    <tr>\n",
       "      <th>0</th>\n",
       "      <td>1</td>\n",
       "      <td>Ace</td>\n",
       "    </tr>\n",
       "    <tr>\n",
       "      <th>1</th>\n",
       "      <td>2</td>\n",
       "      <td>Ace Book</td>\n",
       "    </tr>\n",
       "    <tr>\n",
       "      <th>2</th>\n",
       "      <td>3</td>\n",
       "      <td>Ace Books</td>\n",
       "    </tr>\n",
       "    <tr>\n",
       "      <th>3</th>\n",
       "      <td>4</td>\n",
       "      <td>Ace Hardcover</td>\n",
       "    </tr>\n",
       "    <tr>\n",
       "      <th>4</th>\n",
       "      <td>5</td>\n",
       "      <td>Addison Wesley Publishing Company</td>\n",
       "    </tr>\n",
       "  </tbody>\n",
       "</table>\n",
       "</div>"
      ],
      "text/plain": [
       "   publisher_id                          publisher\n",
       "0             1                                Ace\n",
       "1             2                           Ace Book\n",
       "2             3                          Ace Books\n",
       "3             4                      Ace Hardcover\n",
       "4             5  Addison Wesley Publishing Company"
      ]
     },
     "execution_count": 7,
     "metadata": {},
     "output_type": "execute_result"
    }
   ],
   "source": [
    "query = ''' SELECT *\n",
    "            FROM publishers \n",
    "            LIMIT 5 '''\n",
    "publishers = pd.io.sql.read_sql(query, con = engine)\n",
    "publishers\n",
    "\n"
   ]
  },
  {
   "cell_type": "markdown",
   "metadata": {},
   "source": [
    "### 2.4 **Таблица `ratings`**\n",
    "\n",
    "Содержит данные о пользовательских оценках книг:\n",
    "\n",
    "- `rating_id` — идентификатор оценки;\n",
    "- `book_id` — идентификатор книги;\n",
    "- `username` — имя пользователя, оставившего оценку;\n",
    "- `rating` — оценка книги."
   ]
  },
  {
   "cell_type": "code",
   "execution_count": 8,
   "metadata": {},
   "outputs": [
    {
     "data": {
      "text/html": [
       "<div>\n",
       "<style scoped>\n",
       "    .dataframe tbody tr th:only-of-type {\n",
       "        vertical-align: middle;\n",
       "    }\n",
       "\n",
       "    .dataframe tbody tr th {\n",
       "        vertical-align: top;\n",
       "    }\n",
       "\n",
       "    .dataframe thead th {\n",
       "        text-align: right;\n",
       "    }\n",
       "</style>\n",
       "<table border=\"1\" class=\"dataframe\">\n",
       "  <thead>\n",
       "    <tr style=\"text-align: right;\">\n",
       "      <th></th>\n",
       "      <th>rating_id</th>\n",
       "      <th>book_id</th>\n",
       "      <th>username</th>\n",
       "      <th>rating</th>\n",
       "    </tr>\n",
       "  </thead>\n",
       "  <tbody>\n",
       "    <tr>\n",
       "      <th>0</th>\n",
       "      <td>1</td>\n",
       "      <td>1</td>\n",
       "      <td>ryanfranco</td>\n",
       "      <td>4</td>\n",
       "    </tr>\n",
       "    <tr>\n",
       "      <th>1</th>\n",
       "      <td>2</td>\n",
       "      <td>1</td>\n",
       "      <td>grantpatricia</td>\n",
       "      <td>2</td>\n",
       "    </tr>\n",
       "    <tr>\n",
       "      <th>2</th>\n",
       "      <td>3</td>\n",
       "      <td>1</td>\n",
       "      <td>brandtandrea</td>\n",
       "      <td>5</td>\n",
       "    </tr>\n",
       "    <tr>\n",
       "      <th>3</th>\n",
       "      <td>4</td>\n",
       "      <td>2</td>\n",
       "      <td>lorichen</td>\n",
       "      <td>3</td>\n",
       "    </tr>\n",
       "    <tr>\n",
       "      <th>4</th>\n",
       "      <td>5</td>\n",
       "      <td>2</td>\n",
       "      <td>mariokeller</td>\n",
       "      <td>2</td>\n",
       "    </tr>\n",
       "  </tbody>\n",
       "</table>\n",
       "</div>"
      ],
      "text/plain": [
       "   rating_id  book_id       username  rating\n",
       "0          1        1     ryanfranco       4\n",
       "1          2        1  grantpatricia       2\n",
       "2          3        1   brandtandrea       5\n",
       "3          4        2       lorichen       3\n",
       "4          5        2    mariokeller       2"
      ]
     },
     "execution_count": 8,
     "metadata": {},
     "output_type": "execute_result"
    }
   ],
   "source": [
    "query = ''' SELECT *\n",
    "            FROM ratings \n",
    "            LIMIT 5 '''\n",
    "ratings = pd.io.sql.read_sql(query, con = engine)\n",
    "ratings"
   ]
  },
  {
   "cell_type": "markdown",
   "metadata": {},
   "source": [
    "### 2.5 **Таблица `reviews`**\n",
    "\n",
    "Содержит данные о пользовательских обзорах на книги:\n",
    "\n",
    "- `review_id` — идентификатор обзора;\n",
    "- `book_id` — идентификатор книги;\n",
    "- `username` — имя пользователя, написавшего обзор;\n",
    "- `text` — текст обзора."
   ]
  },
  {
   "cell_type": "code",
   "execution_count": 9,
   "metadata": {},
   "outputs": [
    {
     "data": {
      "text/html": [
       "<div>\n",
       "<style scoped>\n",
       "    .dataframe tbody tr th:only-of-type {\n",
       "        vertical-align: middle;\n",
       "    }\n",
       "\n",
       "    .dataframe tbody tr th {\n",
       "        vertical-align: top;\n",
       "    }\n",
       "\n",
       "    .dataframe thead th {\n",
       "        text-align: right;\n",
       "    }\n",
       "</style>\n",
       "<table border=\"1\" class=\"dataframe\">\n",
       "  <thead>\n",
       "    <tr style=\"text-align: right;\">\n",
       "      <th></th>\n",
       "      <th>review_id</th>\n",
       "      <th>book_id</th>\n",
       "      <th>username</th>\n",
       "      <th>text</th>\n",
       "    </tr>\n",
       "  </thead>\n",
       "  <tbody>\n",
       "    <tr>\n",
       "      <th>0</th>\n",
       "      <td>1</td>\n",
       "      <td>1</td>\n",
       "      <td>brandtandrea</td>\n",
       "      <td>Mention society tell send professor analysis. ...</td>\n",
       "    </tr>\n",
       "    <tr>\n",
       "      <th>1</th>\n",
       "      <td>2</td>\n",
       "      <td>1</td>\n",
       "      <td>ryanfranco</td>\n",
       "      <td>Foot glass pretty audience hit themselves. Amo...</td>\n",
       "    </tr>\n",
       "    <tr>\n",
       "      <th>2</th>\n",
       "      <td>3</td>\n",
       "      <td>2</td>\n",
       "      <td>lorichen</td>\n",
       "      <td>Listen treat keep worry. Miss husband tax but ...</td>\n",
       "    </tr>\n",
       "    <tr>\n",
       "      <th>3</th>\n",
       "      <td>4</td>\n",
       "      <td>3</td>\n",
       "      <td>johnsonamanda</td>\n",
       "      <td>Finally month interesting blue could nature cu...</td>\n",
       "    </tr>\n",
       "    <tr>\n",
       "      <th>4</th>\n",
       "      <td>5</td>\n",
       "      <td>3</td>\n",
       "      <td>scotttamara</td>\n",
       "      <td>Nation purpose heavy give wait song will. List...</td>\n",
       "    </tr>\n",
       "  </tbody>\n",
       "</table>\n",
       "</div>"
      ],
      "text/plain": [
       "   review_id  book_id       username  \\\n",
       "0          1        1   brandtandrea   \n",
       "1          2        1     ryanfranco   \n",
       "2          3        2       lorichen   \n",
       "3          4        3  johnsonamanda   \n",
       "4          5        3    scotttamara   \n",
       "\n",
       "                                                text  \n",
       "0  Mention society tell send professor analysis. ...  \n",
       "1  Foot glass pretty audience hit themselves. Amo...  \n",
       "2  Listen treat keep worry. Miss husband tax but ...  \n",
       "3  Finally month interesting blue could nature cu...  \n",
       "4  Nation purpose heavy give wait song will. List...  "
      ]
     },
     "execution_count": 9,
     "metadata": {},
     "output_type": "execute_result"
    }
   ],
   "source": [
    "query = ''' SELECT *\n",
    "            FROM reviews \n",
    "            LIMIT 5 '''\n",
    "reviews = pd.io.sql.read_sql(query, con = engine)\n",
    "reviews"
   ]
  },
  {
   "cell_type": "markdown",
   "metadata": {},
   "source": [
    "## 3 Решение задач"
   ]
  },
  {
   "cell_type": "markdown",
   "metadata": {},
   "source": [
    "### 3.1 Посчитайте, сколько книг вышло после 1 января 2000 года;"
   ]
  },
  {
   "cell_type": "code",
   "execution_count": 10,
   "metadata": {},
   "outputs": [
    {
     "data": {
      "text/html": [
       "<div>\n",
       "<style scoped>\n",
       "    .dataframe tbody tr th:only-of-type {\n",
       "        vertical-align: middle;\n",
       "    }\n",
       "\n",
       "    .dataframe tbody tr th {\n",
       "        vertical-align: top;\n",
       "    }\n",
       "\n",
       "    .dataframe thead th {\n",
       "        text-align: right;\n",
       "    }\n",
       "</style>\n",
       "<table border=\"1\" class=\"dataframe\">\n",
       "  <thead>\n",
       "    <tr style=\"text-align: right;\">\n",
       "      <th></th>\n",
       "      <th>count</th>\n",
       "    </tr>\n",
       "  </thead>\n",
       "  <tbody>\n",
       "    <tr>\n",
       "      <th>0</th>\n",
       "      <td>819</td>\n",
       "    </tr>\n",
       "  </tbody>\n",
       "</table>\n",
       "</div>"
      ],
      "text/plain": [
       "   count\n",
       "0    819"
      ]
     },
     "execution_count": 10,
     "metadata": {},
     "output_type": "execute_result"
    }
   ],
   "source": [
    "query = ''' SELECT COUNT(book_id)\n",
    "            FROM books\n",
    "            WHERE publication_date > '2000-01-01'; '''\n",
    "\n",
    "pd.io.sql.read_sql(query, con = engine)"
   ]
  },
  {
   "cell_type": "markdown",
   "metadata": {},
   "source": [
    "**Вывод:**   819  книг вышло после 1 января 2000 года"
   ]
  },
  {
   "cell_type": "markdown",
   "metadata": {},
   "source": [
    "### 3.2 Для каждой книги посчитайте количество обзоров и среднюю оценку;"
   ]
  },
  {
   "cell_type": "code",
   "execution_count": 15,
   "metadata": {},
   "outputs": [
    {
     "data": {
      "text/html": [
       "<div>\n",
       "<style scoped>\n",
       "    .dataframe tbody tr th:only-of-type {\n",
       "        vertical-align: middle;\n",
       "    }\n",
       "\n",
       "    .dataframe tbody tr th {\n",
       "        vertical-align: top;\n",
       "    }\n",
       "\n",
       "    .dataframe thead th {\n",
       "        text-align: right;\n",
       "    }\n",
       "</style>\n",
       "<table border=\"1\" class=\"dataframe\">\n",
       "  <thead>\n",
       "    <tr style=\"text-align: right;\">\n",
       "      <th></th>\n",
       "      <th>title</th>\n",
       "      <th>count</th>\n",
       "      <th>avg_rat</th>\n",
       "    </tr>\n",
       "  </thead>\n",
       "  <tbody>\n",
       "    <tr>\n",
       "      <th>0</th>\n",
       "      <td>Twilight (Twilight  #1)</td>\n",
       "      <td>7</td>\n",
       "      <td>3.66</td>\n",
       "    </tr>\n",
       "    <tr>\n",
       "      <th>1</th>\n",
       "      <td>Water for Elephants</td>\n",
       "      <td>6</td>\n",
       "      <td>3.98</td>\n",
       "    </tr>\n",
       "    <tr>\n",
       "      <th>2</th>\n",
       "      <td>The Glass Castle</td>\n",
       "      <td>6</td>\n",
       "      <td>4.21</td>\n",
       "    </tr>\n",
       "    <tr>\n",
       "      <th>3</th>\n",
       "      <td>Harry Potter and the Prisoner of Azkaban (Harr...</td>\n",
       "      <td>6</td>\n",
       "      <td>4.41</td>\n",
       "    </tr>\n",
       "    <tr>\n",
       "      <th>4</th>\n",
       "      <td>The Curious Incident of the Dog in the Night-Time</td>\n",
       "      <td>6</td>\n",
       "      <td>4.08</td>\n",
       "    </tr>\n",
       "    <tr>\n",
       "      <th>...</th>\n",
       "      <td>...</td>\n",
       "      <td>...</td>\n",
       "      <td>...</td>\n",
       "    </tr>\n",
       "    <tr>\n",
       "      <th>995</th>\n",
       "      <td>Anne Rice's The Vampire Lestat: A Graphic Novel</td>\n",
       "      <td>0</td>\n",
       "      <td>3.67</td>\n",
       "    </tr>\n",
       "    <tr>\n",
       "      <th>996</th>\n",
       "      <td>The Natural Way to Draw</td>\n",
       "      <td>0</td>\n",
       "      <td>3.00</td>\n",
       "    </tr>\n",
       "    <tr>\n",
       "      <th>997</th>\n",
       "      <td>The Cat in the Hat and Other Dr. Seuss Favorites</td>\n",
       "      <td>0</td>\n",
       "      <td>5.00</td>\n",
       "    </tr>\n",
       "    <tr>\n",
       "      <th>998</th>\n",
       "      <td>Essential Tales and Poems</td>\n",
       "      <td>0</td>\n",
       "      <td>4.00</td>\n",
       "    </tr>\n",
       "    <tr>\n",
       "      <th>999</th>\n",
       "      <td>Disney's Beauty and the Beast (A Little Golden...</td>\n",
       "      <td>0</td>\n",
       "      <td>4.00</td>\n",
       "    </tr>\n",
       "  </tbody>\n",
       "</table>\n",
       "<p>1000 rows × 3 columns</p>\n",
       "</div>"
      ],
      "text/plain": [
       "                                                 title  count  avg_rat\n",
       "0                              Twilight (Twilight  #1)      7     3.66\n",
       "1                                  Water for Elephants      6     3.98\n",
       "2                                     The Glass Castle      6     4.21\n",
       "3    Harry Potter and the Prisoner of Azkaban (Harr...      6     4.41\n",
       "4    The Curious Incident of the Dog in the Night-Time      6     4.08\n",
       "..                                                 ...    ...      ...\n",
       "995    Anne Rice's The Vampire Lestat: A Graphic Novel      0     3.67\n",
       "996                            The Natural Way to Draw      0     3.00\n",
       "997   The Cat in the Hat and Other Dr. Seuss Favorites      0     5.00\n",
       "998                          Essential Tales and Poems      0     4.00\n",
       "999  Disney's Beauty and the Beast (A Little Golden...      0     4.00\n",
       "\n",
       "[1000 rows x 3 columns]"
      ]
     },
     "execution_count": 15,
     "metadata": {},
     "output_type": "execute_result"
    }
   ],
   "source": [
    "query = ''' SELECT b.title,\n",
    "                   COUNT(DISTINCT r.review_id),\n",
    "                   ROUND(AVG(rt.rating), 2) AS avg_rat\n",
    "            FROM reviews AS r\n",
    "            RIGHT OUTER JOIN books AS b ON r.book_id = b.book_id\n",
    "            LEFT OUTER JOIN ratings AS rt ON b.book_id = rt.book_id\n",
    "            GROUP BY b.book_id\n",
    "            ORDER BY count DESC; '''\n",
    "\n",
    "pd.io.sql.read_sql(query, con = engine)"
   ]
  },
  {
   "cell_type": "markdown",
   "metadata": {},
   "source": [
    "**Вывод:** По среднему рейтингу в пятерку лучших вошли :\n",
    "- Arrows of the Queen (Heralds of Valdemar #1)\t\t5.00\n",
    "- The Walking Dead Book One (The Walking Dead #\t\t5.00\n",
    "- Light in August\t5.00\n",
    "- Wherever You Go There You Are: Mindfulness Me\t\t5.00\n",
    "- Captivating: Unveiling the Mystery of a Woman'\t5.00"
   ]
  },
  {
   "cell_type": "markdown",
   "metadata": {},
   "source": [
    "### 3.3 Определите издательство, которое выпустило наибольшее число книг толще 50 страниц — так исключим из анализа брошюры;"
   ]
  },
  {
   "cell_type": "code",
   "execution_count": 12,
   "metadata": {},
   "outputs": [
    {
     "data": {
      "text/html": [
       "<div>\n",
       "<style scoped>\n",
       "    .dataframe tbody tr th:only-of-type {\n",
       "        vertical-align: middle;\n",
       "    }\n",
       "\n",
       "    .dataframe tbody tr th {\n",
       "        vertical-align: top;\n",
       "    }\n",
       "\n",
       "    .dataframe thead th {\n",
       "        text-align: right;\n",
       "    }\n",
       "</style>\n",
       "<table border=\"1\" class=\"dataframe\">\n",
       "  <thead>\n",
       "    <tr style=\"text-align: right;\">\n",
       "      <th></th>\n",
       "      <th>publisher</th>\n",
       "      <th>count</th>\n",
       "    </tr>\n",
       "  </thead>\n",
       "  <tbody>\n",
       "    <tr>\n",
       "      <th>0</th>\n",
       "      <td>Penguin Books</td>\n",
       "      <td>42</td>\n",
       "    </tr>\n",
       "  </tbody>\n",
       "</table>\n",
       "</div>"
      ],
      "text/plain": [
       "       publisher  count\n",
       "0  Penguin Books     42"
      ]
     },
     "execution_count": 12,
     "metadata": {},
     "output_type": "execute_result"
    }
   ],
   "source": [
    "query = ''' SELECT p.publisher,\n",
    "                   COUNT(b.book_id)\n",
    "            FROM publishers AS p\n",
    "            LEFT JOIN books AS b ON p.publisher_id = b.publisher_id\n",
    "            WHERE b.book_id IN (SELECT book_id\n",
    "                                FROM books\n",
    "                                WHERE num_pages >= 50)\n",
    "            GROUP BY p.publisher_id\n",
    "            ORDER BY COUNT(b.book_id) DESC\n",
    "            LIMIT 1; '''\n",
    "\n",
    "pd.io.sql.read_sql(query, con = engine)"
   ]
  },
  {
   "cell_type": "markdown",
   "metadata": {},
   "source": [
    "**Вывод:** Издательство Penguin Books выпустило наибольшее число книг толще 50 страниц."
   ]
  },
  {
   "cell_type": "markdown",
   "metadata": {},
   "source": [
    "### 3.4 Определите автора с самой высокой средней оценкой книг — учитывайте только книги с 50 и более оценками;"
   ]
  },
  {
   "cell_type": "code",
   "execution_count": 13,
   "metadata": {},
   "outputs": [
    {
     "data": {
      "text/html": [
       "<div>\n",
       "<style scoped>\n",
       "    .dataframe tbody tr th:only-of-type {\n",
       "        vertical-align: middle;\n",
       "    }\n",
       "\n",
       "    .dataframe tbody tr th {\n",
       "        vertical-align: top;\n",
       "    }\n",
       "\n",
       "    .dataframe thead th {\n",
       "        text-align: right;\n",
       "    }\n",
       "</style>\n",
       "<table border=\"1\" class=\"dataframe\">\n",
       "  <thead>\n",
       "    <tr style=\"text-align: right;\">\n",
       "      <th></th>\n",
       "      <th>author</th>\n",
       "      <th>round</th>\n",
       "    </tr>\n",
       "  </thead>\n",
       "  <tbody>\n",
       "    <tr>\n",
       "      <th>0</th>\n",
       "      <td>J.K. Rowling/Mary GrandPré</td>\n",
       "      <td>4.29</td>\n",
       "    </tr>\n",
       "  </tbody>\n",
       "</table>\n",
       "</div>"
      ],
      "text/plain": [
       "                       author  round\n",
       "0  J.K. Rowling/Mary GrandPré   4.29"
      ]
     },
     "execution_count": 13,
     "metadata": {},
     "output_type": "execute_result"
    }
   ],
   "source": [
    "query = ''' SELECT a.author,\n",
    "                   ROUND(AVG(rt.rating), 2)\n",
    "            FROM authors AS a\n",
    "            LEFT JOIN books AS b ON a.author_id = b.author_id\n",
    "            LEFT JOIN ratings AS rt ON b.book_id = rt.book_id\n",
    "            WHERE b.book_id IN (SELECT book_id\n",
    "                                FROM ratings\n",
    "                                GROUP BY book_id\n",
    "                                HAVING COUNT(rating) >= 50)\n",
    "            GROUP BY a.author\n",
    "            ORDER BY AVG(rt.rating) DESC\n",
    "            LIMIT 1; '''\n",
    "\n",
    "pd.io.sql.read_sql(query, con = engine)"
   ]
  },
  {
   "cell_type": "markdown",
   "metadata": {},
   "source": [
    "**Вывод:** Aвтор с самой высокой средней оценкой книг, которые оценены более 50 раз.\n",
    "`J.K. Rowling/Mary GrandPré\t4.29`"
   ]
  },
  {
   "cell_type": "markdown",
   "metadata": {},
   "source": [
    "### 3.5 Посчитайте среднее количество обзоров от пользователей, которые поставили больше 50 оценок."
   ]
  },
  {
   "cell_type": "code",
   "execution_count": 14,
   "metadata": {},
   "outputs": [
    {
     "data": {
      "text/html": [
       "<div>\n",
       "<style scoped>\n",
       "    .dataframe tbody tr th:only-of-type {\n",
       "        vertical-align: middle;\n",
       "    }\n",
       "\n",
       "    .dataframe tbody tr th {\n",
       "        vertical-align: top;\n",
       "    }\n",
       "\n",
       "    .dataframe thead th {\n",
       "        text-align: right;\n",
       "    }\n",
       "</style>\n",
       "<table border=\"1\" class=\"dataframe\">\n",
       "  <thead>\n",
       "    <tr style=\"text-align: right;\">\n",
       "      <th></th>\n",
       "      <th>avg</th>\n",
       "    </tr>\n",
       "  </thead>\n",
       "  <tbody>\n",
       "    <tr>\n",
       "      <th>0</th>\n",
       "      <td>24.333333</td>\n",
       "    </tr>\n",
       "  </tbody>\n",
       "</table>\n",
       "</div>"
      ],
      "text/plain": [
       "         avg\n",
       "0  24.333333"
      ]
     },
     "execution_count": 14,
     "metadata": {},
     "output_type": "execute_result"
    }
   ],
   "source": [
    "query = ''' WITH t1 AS (\n",
    "SELECT username,\n",
    "       COUNT(rating) AS cnt_rat\n",
    "FROM ratings\n",
    "GROUP BY username\n",
    "HAVING COUNT(rating) > 50),\n",
    "\n",
    "t2 AS (\n",
    "SELECT username,\n",
    "       COUNT(review_id) AS cnt_rev\n",
    "FROM reviews\n",
    "GROUP BY 1)\n",
    "\n",
    "SELECT AVG(cnt_rev)\n",
    "FROM t1\n",
    "LEFT JOIN t2 ON t1.username = t2.username '''\n",
    "\n",
    "pd.io.sql.read_sql(query, con = engine)"
   ]
  },
  {
   "cell_type": "markdown",
   "metadata": {},
   "source": [
    "**Вывод:**  = 24 обзора в среднем, от пользователей, которые поставили больше 50 оценок."
   ]
  },
  {
   "cell_type": "markdown",
   "metadata": {},
   "source": [
    "<div style=\"border-radius: 15px; box-shadow: 2px 2px 4px; border: 1px solid; background:#bdc3c7; padding: 20px\"> <h7 style=\"color:black; margin-bottom:20px\"> \n",
    "    ОБЩИЙ вывод: \n",
    "    \n",
    "    - 819 книг вышло после 1 января 2000 года \n",
    "    \n",
    "    - По среднему рейтингу в пятерку лучших вошли :\n",
    "    - Arrows of the Queen (Heralds of Valdemar #1) 5.00\n",
    "    - The Walking Dead Book One (The Walking Dead # 5.00\n",
    "    - Light in August 5.00\n",
    "    - Wherever You Go There You Are: Mindfulness Me 5.00\n",
    "    - Captivating: Unveiling the Mystery of a Woman' 5.00 \n",
    "    \n",
    "    - Издательство Penguin Books выпустило наибольшее число книг толще 50 страниц\n",
    "    \n",
    "    - Aвтор с самой высокой средней оценкой книг, которые оценены более 50 раз. J.K. Rowling/Mary GrandPré    4.29\n",
    "    \n",
    "    - = 24 обзора в среднем, от пользователей, которые поставили больше 50 оценок."
   ]
  }
 ],
 "metadata": {
  "ExecuteTimeLog": [
   {
    "duration": 1215,
    "start_time": "2023-02-14T15:06:18.691Z"
   },
   {
    "duration": 48,
    "start_time": "2023-02-14T15:06:19.908Z"
   },
   {
    "duration": 605,
    "start_time": "2023-02-14T15:06:19.957Z"
   },
   {
    "duration": 11,
    "start_time": "2023-02-14T15:06:20.564Z"
   },
   {
    "duration": 23,
    "start_time": "2023-02-14T15:06:20.576Z"
   },
   {
    "duration": 23,
    "start_time": "2023-02-14T15:06:20.601Z"
   },
   {
    "duration": 25,
    "start_time": "2023-02-14T15:06:20.626Z"
   },
   {
    "duration": 13,
    "start_time": "2023-02-14T15:06:20.653Z"
   },
   {
    "duration": 16,
    "start_time": "2023-02-14T15:06:20.668Z"
   },
   {
    "duration": 20,
    "start_time": "2023-02-14T15:06:20.687Z"
   },
   {
    "duration": 23,
    "start_time": "2023-02-14T15:06:20.708Z"
   },
   {
    "duration": 19,
    "start_time": "2023-02-14T15:06:20.733Z"
   },
   {
    "duration": 38,
    "start_time": "2023-02-14T15:06:20.753Z"
   },
   {
    "duration": 17,
    "start_time": "2023-02-14T15:06:20.793Z"
   },
   {
    "duration": 39,
    "start_time": "2023-02-14T15:06:20.811Z"
   },
   {
    "duration": 22,
    "start_time": "2023-02-14T15:06:20.852Z"
   },
   {
    "duration": 31,
    "start_time": "2023-02-14T15:06:20.876Z"
   },
   {
    "duration": 23,
    "start_time": "2023-02-14T15:06:20.909Z"
   },
   {
    "duration": 16,
    "start_time": "2023-02-14T15:06:20.934Z"
   },
   {
    "duration": 40,
    "start_time": "2023-02-14T15:06:20.952Z"
   },
   {
    "duration": 12,
    "start_time": "2023-02-14T15:06:20.994Z"
   },
   {
    "duration": 259,
    "start_time": "2023-02-14T15:06:21.007Z"
   },
   {
    "duration": 176,
    "start_time": "2023-02-14T15:06:21.268Z"
   },
   {
    "duration": 23,
    "start_time": "2023-02-14T15:06:21.445Z"
   },
   {
    "duration": 6,
    "start_time": "2023-02-14T15:06:21.469Z"
   },
   {
    "duration": 39,
    "start_time": "2023-02-14T15:06:21.476Z"
   },
   {
    "duration": 26,
    "start_time": "2023-02-14T15:06:21.516Z"
   },
   {
    "duration": 59,
    "start_time": "2023-02-14T15:06:21.545Z"
   },
   {
    "duration": 775,
    "start_time": "2023-02-14T15:06:21.606Z"
   },
   {
    "duration": 88,
    "start_time": "2023-02-14T15:06:22.383Z"
   },
   {
    "duration": 6,
    "start_time": "2023-02-14T15:06:22.473Z"
   },
   {
    "duration": 24,
    "start_time": "2023-02-14T15:06:22.480Z"
   },
   {
    "duration": 4,
    "start_time": "2023-02-14T15:06:22.505Z"
   },
   {
    "duration": 473,
    "start_time": "2023-02-14T15:06:22.510Z"
   },
   {
    "duration": 6,
    "start_time": "2023-02-14T15:06:22.985Z"
   },
   {
    "duration": 648,
    "start_time": "2023-02-14T15:06:22.993Z"
   },
   {
    "duration": 508,
    "start_time": "2023-02-14T15:06:23.643Z"
   },
   {
    "duration": 25,
    "start_time": "2023-02-14T15:06:24.154Z"
   },
   {
    "duration": 480,
    "start_time": "2023-02-14T15:06:24.202Z"
   },
   {
    "duration": 46,
    "start_time": "2023-02-14T15:06:24.684Z"
   },
   {
    "duration": 36,
    "start_time": "2023-02-14T15:06:24.732Z"
   },
   {
    "duration": 46,
    "start_time": "2023-02-14T15:06:24.771Z"
   },
   {
    "duration": 12,
    "start_time": "2023-02-14T15:06:24.819Z"
   },
   {
    "duration": 38,
    "start_time": "2023-02-14T15:06:24.832Z"
   },
   {
    "duration": 45,
    "start_time": "2023-02-14T15:06:24.871Z"
   },
   {
    "duration": 51,
    "start_time": "2023-02-14T15:06:24.917Z"
   },
   {
    "duration": 44,
    "start_time": "2023-02-14T15:06:24.969Z"
   },
   {
    "duration": 6,
    "start_time": "2023-02-14T15:06:25.015Z"
   },
   {
    "duration": 9,
    "start_time": "2023-02-14T15:06:25.023Z"
   },
   {
    "duration": 10,
    "start_time": "2023-02-14T15:06:25.034Z"
   },
   {
    "duration": 57,
    "start_time": "2023-02-14T15:06:25.046Z"
   },
   {
    "duration": 14,
    "start_time": "2023-02-14T15:06:25.105Z"
   },
   {
    "duration": 3,
    "start_time": "2023-02-14T15:06:25.121Z"
   },
   {
    "duration": 14,
    "start_time": "2023-02-14T15:06:25.126Z"
   },
   {
    "duration": 67,
    "start_time": "2023-02-14T15:06:25.142Z"
   },
   {
    "duration": 31,
    "start_time": "2023-02-14T15:06:25.211Z"
   },
   {
    "duration": 64,
    "start_time": "2023-02-14T15:06:25.244Z"
   },
   {
    "duration": 9,
    "start_time": "2023-02-14T15:06:25.311Z"
   },
   {
    "duration": 15,
    "start_time": "2023-02-14T15:06:25.322Z"
   },
   {
    "duration": 16,
    "start_time": "2023-02-14T15:06:25.339Z"
   },
   {
    "duration": 48,
    "start_time": "2023-02-14T15:06:25.357Z"
   },
   {
    "duration": 34,
    "start_time": "2023-02-14T15:06:25.407Z"
   },
   {
    "duration": 8,
    "start_time": "2023-02-14T15:06:25.442Z"
   },
   {
    "duration": 8,
    "start_time": "2023-02-14T15:18:53.178Z"
   },
   {
    "duration": 1430,
    "start_time": "2023-02-17T13:51:12.759Z"
   },
   {
    "duration": 237,
    "start_time": "2023-02-17T13:51:14.192Z"
   },
   {
    "duration": 761,
    "start_time": "2023-02-17T13:51:14.431Z"
   },
   {
    "duration": 11,
    "start_time": "2023-02-17T13:51:15.195Z"
   },
   {
    "duration": 10,
    "start_time": "2023-02-17T13:51:15.207Z"
   },
   {
    "duration": 23,
    "start_time": "2023-02-17T13:51:15.219Z"
   },
   {
    "duration": 23,
    "start_time": "2023-02-17T13:51:15.244Z"
   },
   {
    "duration": 7,
    "start_time": "2023-02-17T13:51:15.269Z"
   },
   {
    "duration": 17,
    "start_time": "2023-02-17T13:51:15.277Z"
   },
   {
    "duration": 14,
    "start_time": "2023-02-17T13:51:15.296Z"
   },
   {
    "duration": 5,
    "start_time": "2023-02-17T13:51:15.312Z"
   },
   {
    "duration": 25,
    "start_time": "2023-02-17T13:51:15.318Z"
   },
   {
    "duration": 26,
    "start_time": "2023-02-17T13:51:15.344Z"
   },
   {
    "duration": 7,
    "start_time": "2023-02-17T13:51:15.372Z"
   },
   {
    "duration": 23,
    "start_time": "2023-02-17T13:51:15.380Z"
   },
   {
    "duration": 45,
    "start_time": "2023-02-17T13:51:15.405Z"
   },
   {
    "duration": 24,
    "start_time": "2023-02-17T13:51:15.452Z"
   },
   {
    "duration": 23,
    "start_time": "2023-02-17T13:51:15.478Z"
   },
   {
    "duration": 38,
    "start_time": "2023-02-17T13:51:15.503Z"
   },
   {
    "duration": 27,
    "start_time": "2023-02-17T13:51:15.542Z"
   },
   {
    "duration": 7,
    "start_time": "2023-02-17T13:51:15.572Z"
   },
   {
    "duration": 300,
    "start_time": "2023-02-17T13:51:15.580Z"
   },
   {
    "duration": 26,
    "start_time": "2023-02-17T13:51:15.882Z"
   },
   {
    "duration": 204,
    "start_time": "2023-02-17T13:51:15.910Z"
   },
   {
    "duration": 32,
    "start_time": "2023-02-17T13:51:16.116Z"
   },
   {
    "duration": 5,
    "start_time": "2023-02-17T13:51:16.150Z"
   },
   {
    "duration": 23,
    "start_time": "2023-02-17T13:51:16.157Z"
   },
   {
    "duration": 29,
    "start_time": "2023-02-17T13:51:16.184Z"
   },
   {
    "duration": 72,
    "start_time": "2023-02-17T13:51:16.215Z"
   },
   {
    "duration": 53,
    "start_time": "2023-02-17T13:51:16.289Z"
   },
   {
    "duration": 61,
    "start_time": "2023-02-17T13:51:16.344Z"
   },
   {
    "duration": 34,
    "start_time": "2023-02-17T13:51:16.407Z"
   },
   {
    "duration": 9,
    "start_time": "2023-02-17T13:51:16.443Z"
   },
   {
    "duration": 9,
    "start_time": "2023-02-17T13:51:16.454Z"
   },
   {
    "duration": 12,
    "start_time": "2023-02-17T13:51:16.465Z"
   },
   {
    "duration": 17,
    "start_time": "2023-02-17T13:51:16.479Z"
   },
   {
    "duration": 43,
    "start_time": "2023-02-17T13:51:16.498Z"
   },
   {
    "duration": 843,
    "start_time": "2023-02-17T13:51:16.543Z"
   },
   {
    "duration": 27,
    "start_time": "2023-02-17T13:51:17.387Z"
   },
   {
    "duration": 25,
    "start_time": "2023-02-17T13:51:17.416Z"
   },
   {
    "duration": 14,
    "start_time": "2023-02-17T13:51:17.443Z"
   },
   {
    "duration": 23,
    "start_time": "2023-02-17T13:51:17.458Z"
   },
   {
    "duration": 58,
    "start_time": "2023-02-17T13:51:17.483Z"
   },
   {
    "duration": 7,
    "start_time": "2023-02-17T13:51:17.543Z"
   },
   {
    "duration": 11,
    "start_time": "2023-02-17T13:51:17.552Z"
   },
   {
    "duration": 7,
    "start_time": "2023-02-17T13:51:17.564Z"
   },
   {
    "duration": 367,
    "start_time": "2023-02-17T13:51:17.573Z"
   },
   {
    "duration": 4,
    "start_time": "2023-02-17T13:51:17.942Z"
   },
   {
    "duration": 218,
    "start_time": "2023-02-17T13:51:17.948Z"
   },
   {
    "duration": 444,
    "start_time": "2023-02-17T13:51:18.168Z"
   },
   {
    "duration": 47,
    "start_time": "2023-02-17T13:51:18.614Z"
   },
   {
    "duration": 92,
    "start_time": "2023-02-17T13:51:18.664Z"
   },
   {
    "duration": 16,
    "start_time": "2023-02-17T13:51:18.758Z"
   },
   {
    "duration": 72,
    "start_time": "2023-02-17T13:51:18.776Z"
   },
   {
    "duration": 10,
    "start_time": "2023-02-17T13:51:18.850Z"
   },
   {
    "duration": 30,
    "start_time": "2023-02-17T13:51:18.862Z"
   },
   {
    "duration": 10,
    "start_time": "2023-02-17T13:51:18.894Z"
   },
   {
    "duration": 53,
    "start_time": "2023-02-17T13:51:18.905Z"
   },
   {
    "duration": 16,
    "start_time": "2023-02-17T13:51:18.959Z"
   },
   {
    "duration": 71,
    "start_time": "2023-02-17T13:51:18.977Z"
   },
   {
    "duration": 50,
    "start_time": "2023-02-17T13:51:19.050Z"
   },
   {
    "duration": 50,
    "start_time": "2023-02-17T13:51:19.103Z"
   },
   {
    "duration": 9,
    "start_time": "2023-02-17T13:51:19.155Z"
   },
   {
    "duration": 17,
    "start_time": "2023-02-17T13:51:19.166Z"
   },
   {
    "duration": 18,
    "start_time": "2023-02-17T13:51:19.185Z"
   },
   {
    "duration": 13,
    "start_time": "2023-02-17T13:51:19.205Z"
   },
   {
    "duration": 29,
    "start_time": "2023-02-17T13:51:19.221Z"
   },
   {
    "duration": 36,
    "start_time": "2023-02-17T13:51:19.252Z"
   },
   {
    "duration": 12,
    "start_time": "2023-02-17T13:51:19.291Z"
   },
   {
    "duration": 278,
    "start_time": "2023-02-17T13:51:19.305Z"
   },
   {
    "duration": 12,
    "start_time": "2023-02-17T13:51:19.585Z"
   },
   {
    "duration": 10,
    "start_time": "2023-02-17T13:51:19.599Z"
   },
   {
    "duration": 62,
    "start_time": "2023-02-17T13:51:19.610Z"
   },
   {
    "duration": 10,
    "start_time": "2023-02-17T13:51:19.674Z"
   },
   {
    "duration": 197,
    "start_time": "2023-02-17T13:51:19.685Z"
   },
   {
    "duration": 10,
    "start_time": "2023-02-17T13:51:19.884Z"
   },
   {
    "duration": 12,
    "start_time": "2023-02-17T13:51:19.896Z"
   },
   {
    "duration": 56,
    "start_time": "2023-02-17T13:51:19.910Z"
   },
   {
    "duration": 11,
    "start_time": "2023-02-17T13:51:19.968Z"
   },
   {
    "duration": 207,
    "start_time": "2023-02-17T13:51:19.981Z"
   },
   {
    "duration": 52,
    "start_time": "2023-02-17T13:51:20.189Z"
   },
   {
    "duration": 23,
    "start_time": "2023-02-17T13:51:20.246Z"
   },
   {
    "duration": 38,
    "start_time": "2023-02-17T13:51:20.270Z"
   },
   {
    "duration": 32,
    "start_time": "2023-02-17T13:51:20.310Z"
   },
   {
    "duration": 11,
    "start_time": "2023-02-17T13:51:20.344Z"
   },
   {
    "duration": 18,
    "start_time": "2023-02-17T13:51:20.356Z"
   },
   {
    "duration": 71,
    "start_time": "2023-02-17T13:51:20.376Z"
   },
   {
    "duration": 9,
    "start_time": "2023-02-17T13:51:20.449Z"
   },
   {
    "duration": 2283,
    "start_time": "2023-02-24T10:30:00.088Z"
   },
   {
    "duration": 11758,
    "start_time": "2023-02-24T10:30:02.373Z"
   },
   {
    "duration": 52,
    "start_time": "2023-02-24T10:30:14.133Z"
   },
   {
    "duration": 10,
    "start_time": "2023-02-24T10:30:14.187Z"
   },
   {
    "duration": 10,
    "start_time": "2023-02-24T10:30:14.198Z"
   },
   {
    "duration": 14,
    "start_time": "2023-02-24T10:30:14.209Z"
   },
   {
    "duration": 11,
    "start_time": "2023-02-24T10:30:14.224Z"
   },
   {
    "duration": 9,
    "start_time": "2023-02-24T10:30:14.237Z"
   },
   {
    "duration": 27,
    "start_time": "2023-02-24T10:30:14.248Z"
   },
   {
    "duration": 11,
    "start_time": "2023-02-24T10:30:14.277Z"
   },
   {
    "duration": 20,
    "start_time": "2023-02-24T10:30:14.289Z"
   },
   {
    "duration": 16,
    "start_time": "2023-02-24T10:30:14.311Z"
   },
   {
    "duration": 17,
    "start_time": "2023-02-24T10:33:13.181Z"
   },
   {
    "duration": 15,
    "start_time": "2023-02-24T10:33:14.825Z"
   },
   {
    "duration": 2392,
    "start_time": "2023-02-24T18:11:56.636Z"
   },
   {
    "duration": 529,
    "start_time": "2023-02-24T18:11:59.030Z"
   },
   {
    "duration": 4,
    "start_time": "2023-02-24T18:11:59.560Z"
   },
   {
    "duration": 10962,
    "start_time": "2023-02-24T18:11:59.566Z"
   },
   {
    "duration": 50,
    "start_time": "2023-02-24T18:12:10.530Z"
   },
   {
    "duration": 10,
    "start_time": "2023-02-24T18:12:10.581Z"
   },
   {
    "duration": 12,
    "start_time": "2023-02-24T18:12:10.593Z"
   },
   {
    "duration": 12,
    "start_time": "2023-02-24T18:12:10.606Z"
   },
   {
    "duration": 11,
    "start_time": "2023-02-24T18:12:10.619Z"
   },
   {
    "duration": 9,
    "start_time": "2023-02-24T18:12:10.633Z"
   },
   {
    "duration": 26,
    "start_time": "2023-02-24T18:12:10.644Z"
   },
   {
    "duration": 12,
    "start_time": "2023-02-24T18:12:10.672Z"
   },
   {
    "duration": 15,
    "start_time": "2023-02-24T18:12:10.686Z"
   },
   {
    "duration": 13,
    "start_time": "2023-02-24T18:12:10.702Z"
   },
   {
    "duration": 27,
    "start_time": "2023-02-24T18:12:18.309Z"
   }
  ],
  "kernelspec": {
   "display_name": "Python 3 (ipykernel)",
   "language": "python",
   "name": "python3"
  },
  "language_info": {
   "codemirror_mode": {
    "name": "ipython",
    "version": 3
   },
   "file_extension": ".py",
   "mimetype": "text/x-python",
   "name": "python",
   "nbconvert_exporter": "python",
   "pygments_lexer": "ipython3",
   "version": "3.9.13"
  },
  "toc": {
   "base_numbering": 1,
   "nav_menu": {},
   "number_sections": true,
   "sideBar": true,
   "skip_h1_title": true,
   "title_cell": "Table of Contents",
   "title_sidebar": "Contents",
   "toc_cell": false,
   "toc_position": {},
   "toc_section_display": true,
   "toc_window_display": false
  }
 },
 "nbformat": 4,
 "nbformat_minor": 2
}
